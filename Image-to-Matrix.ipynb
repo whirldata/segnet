{
 "cells": [
  {
   "cell_type": "code",
   "execution_count": 1,
   "metadata": {},
   "outputs": [],
   "source": [
    "import cv2\n",
    "import numpy as np"
   ]
  },
  {
   "cell_type": "code",
   "execution_count": 2,
   "metadata": {},
   "outputs": [],
   "source": [
    "path = \"22\"\n",
    "ori_img = cv2.imread(path+'.png')\n",
    "arr = np.array(ori_img)"
   ]
  },
  {
   "cell_type": "code",
   "execution_count": 3,
   "metadata": {},
   "outputs": [],
   "source": [
    "np.savetxt('matrix-'+path+'-png.txt', arr, fmt='%s')"
   ]
  },
  {
   "cell_type": "code",
   "execution_count": 4,
   "metadata": {},
   "outputs": [],
   "source": [
    "nx,ny,nz=np.shape(arr)\n",
    "CXY=np.zeros([ny, nx])\n",
    "for i in range(ny):\n",
    "    for j in range(nx):\n",
    "        CXY[i,j]=np.max(arr[j,i,:])\n",
    "\n",
    "#Binary data\n",
    "#np.save('0001TP_007590-gray-png.npy', CXY)\n",
    "\n",
    "#Human readable data\n",
    "np.savetxt('value-'+path+'-png.txt', CXY)"
   ]
  },
  {
   "cell_type": "code",
   "execution_count": 14,
   "metadata": {},
   "outputs": [],
   "source": [
    "img_ori = cv2.imread('train/0006R0_f02280.png')\n",
    "cv2.imshow(\"ax\",img_ori)\n",
    "cv2.waitKey(0)\n",
    "gray_image = cv2.cvtColor(img_ori, cv2.COLOR_BGR2GRAY)"
   ]
  },
  {
   "cell_type": "code",
   "execution_count": 15,
   "metadata": {},
   "outputs": [
    {
     "data": {
      "text/plain": [
       "255"
      ]
     },
     "execution_count": 15,
     "metadata": {},
     "output_type": "execute_result"
    }
   ],
   "source": [
    "cv2.imshow(\"ax\",gray_image)\n",
    "cv2.waitKey(0)"
   ]
  },
  {
   "cell_type": "code",
   "execution_count": null,
   "metadata": {},
   "outputs": [],
   "source": []
  }
 ],
 "metadata": {
  "kernelspec": {
   "display_name": "Python 3",
   "language": "python",
   "name": "python3"
  },
  "language_info": {
   "codemirror_mode": {
    "name": "ipython",
    "version": 2
   },
   "file_extension": ".py",
   "mimetype": "text/x-python",
   "name": "python",
   "nbconvert_exporter": "python",
   "pygments_lexer": "ipython2",
   "version": "2.7.12"
  }
 },
 "nbformat": 4,
 "nbformat_minor": 2
}
